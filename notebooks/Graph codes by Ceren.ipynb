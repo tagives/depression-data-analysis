{
  "nbformat": 4,
  "nbformat_minor": 0,
  "metadata": {
    "colab": {
      "provenance": []
    },
    "kernelspec": {
      "name": "python3",
      "display_name": "Python 3"
    },
    "language_info": {
      "name": "python"
    }
  },
  "cells": [
    {
      "cell_type": "code",
      "execution_count": 1,
      "metadata": {
        "id": "8NZsZ1I2YbyK"
      },
      "outputs": [],
      "source": [
        "import matplotlib.pyplot as plt #import necesarry packages\n",
        "import seaborn as sns #import necesarry packages\n",
        "import numpy as np  #import necesarry packages\n",
        "import pandas as pd #import necesarry packages"
      ]
    },
    {
      "cell_type": "code",
      "source": [
        "depression = pd.read_excel('finalcleanedd.xlsx') #read the clean dataset\n",
        "depression.head() "
      ],
      "metadata": {
        "colab": {
          "base_uri": "https://localhost:8080/",
          "height": 288
        },
        "id": "NVzav39YYoOe",
        "outputId": "bc671f6b-fe04-49e9-f860-49b68d1e71f5"
      },
      "execution_count": 2,
      "outputs": [
        {
          "output_type": "execute_result",
          "data": {
            "text/plain": [
              "   Unnamed: 0     Sex  Age Married  Number Children  Education Level  \\\n",
              "0           0  Female   30     Yes                2                9   \n",
              "1           1  Female   26     Yes                3               11   \n",
              "2           2  Female   25     Yes                3               10   \n",
              "3           3  Female   65     Yes                0               10   \n",
              "4           4  Female   43     Yes                5                9   \n",
              "\n",
              "   Gained Asset  Durable Asset  Save Asset  Living Expenses  Other Expenses  \\\n",
              "0      53010906       20019212    19218445         33365355        34673275   \n",
              "1      37172832       27146051    23399979         15481524        41639961   \n",
              "2      28912201       22861940    23399979         26692283        28203066   \n",
              "3      24508919       62700172    48046112         26692283        51249185   \n",
              "4      19676268       36515042    13613065          1601537        43241501   \n",
              "\n",
              "   Farm Expenses  Lasting Investment  No Lasting Investment Depressed  \n",
              "0       41150599            26281226               63105003        No  \n",
              "1       31363432            28411718               81077814        No  \n",
              "2       31363432            28411718               28292707        No  \n",
              "3       88974279            32924994               56943541        No  \n",
              "4       18907033            24000417                4319701       Yes  "
            ],
            "text/html": [
              "\n",
              "  <div id=\"df-6ee28f8f-0a31-4fec-a738-3411c10fc4cc\">\n",
              "    <div class=\"colab-df-container\">\n",
              "      <div>\n",
              "<style scoped>\n",
              "    .dataframe tbody tr th:only-of-type {\n",
              "        vertical-align: middle;\n",
              "    }\n",
              "\n",
              "    .dataframe tbody tr th {\n",
              "        vertical-align: top;\n",
              "    }\n",
              "\n",
              "    .dataframe thead th {\n",
              "        text-align: right;\n",
              "    }\n",
              "</style>\n",
              "<table border=\"1\" class=\"dataframe\">\n",
              "  <thead>\n",
              "    <tr style=\"text-align: right;\">\n",
              "      <th></th>\n",
              "      <th>Unnamed: 0</th>\n",
              "      <th>Sex</th>\n",
              "      <th>Age</th>\n",
              "      <th>Married</th>\n",
              "      <th>Number Children</th>\n",
              "      <th>Education Level</th>\n",
              "      <th>Gained Asset</th>\n",
              "      <th>Durable Asset</th>\n",
              "      <th>Save Asset</th>\n",
              "      <th>Living Expenses</th>\n",
              "      <th>Other Expenses</th>\n",
              "      <th>Farm Expenses</th>\n",
              "      <th>Lasting Investment</th>\n",
              "      <th>No Lasting Investment</th>\n",
              "      <th>Depressed</th>\n",
              "    </tr>\n",
              "  </thead>\n",
              "  <tbody>\n",
              "    <tr>\n",
              "      <th>0</th>\n",
              "      <td>0</td>\n",
              "      <td>Female</td>\n",
              "      <td>30</td>\n",
              "      <td>Yes</td>\n",
              "      <td>2</td>\n",
              "      <td>9</td>\n",
              "      <td>53010906</td>\n",
              "      <td>20019212</td>\n",
              "      <td>19218445</td>\n",
              "      <td>33365355</td>\n",
              "      <td>34673275</td>\n",
              "      <td>41150599</td>\n",
              "      <td>26281226</td>\n",
              "      <td>63105003</td>\n",
              "      <td>No</td>\n",
              "    </tr>\n",
              "    <tr>\n",
              "      <th>1</th>\n",
              "      <td>1</td>\n",
              "      <td>Female</td>\n",
              "      <td>26</td>\n",
              "      <td>Yes</td>\n",
              "      <td>3</td>\n",
              "      <td>11</td>\n",
              "      <td>37172832</td>\n",
              "      <td>27146051</td>\n",
              "      <td>23399979</td>\n",
              "      <td>15481524</td>\n",
              "      <td>41639961</td>\n",
              "      <td>31363432</td>\n",
              "      <td>28411718</td>\n",
              "      <td>81077814</td>\n",
              "      <td>No</td>\n",
              "    </tr>\n",
              "    <tr>\n",
              "      <th>2</th>\n",
              "      <td>2</td>\n",
              "      <td>Female</td>\n",
              "      <td>25</td>\n",
              "      <td>Yes</td>\n",
              "      <td>3</td>\n",
              "      <td>10</td>\n",
              "      <td>28912201</td>\n",
              "      <td>22861940</td>\n",
              "      <td>23399979</td>\n",
              "      <td>26692283</td>\n",
              "      <td>28203066</td>\n",
              "      <td>31363432</td>\n",
              "      <td>28411718</td>\n",
              "      <td>28292707</td>\n",
              "      <td>No</td>\n",
              "    </tr>\n",
              "    <tr>\n",
              "      <th>3</th>\n",
              "      <td>3</td>\n",
              "      <td>Female</td>\n",
              "      <td>65</td>\n",
              "      <td>Yes</td>\n",
              "      <td>0</td>\n",
              "      <td>10</td>\n",
              "      <td>24508919</td>\n",
              "      <td>62700172</td>\n",
              "      <td>48046112</td>\n",
              "      <td>26692283</td>\n",
              "      <td>51249185</td>\n",
              "      <td>88974279</td>\n",
              "      <td>32924994</td>\n",
              "      <td>56943541</td>\n",
              "      <td>No</td>\n",
              "    </tr>\n",
              "    <tr>\n",
              "      <th>4</th>\n",
              "      <td>4</td>\n",
              "      <td>Female</td>\n",
              "      <td>43</td>\n",
              "      <td>Yes</td>\n",
              "      <td>5</td>\n",
              "      <td>9</td>\n",
              "      <td>19676268</td>\n",
              "      <td>36515042</td>\n",
              "      <td>13613065</td>\n",
              "      <td>1601537</td>\n",
              "      <td>43241501</td>\n",
              "      <td>18907033</td>\n",
              "      <td>24000417</td>\n",
              "      <td>4319701</td>\n",
              "      <td>Yes</td>\n",
              "    </tr>\n",
              "  </tbody>\n",
              "</table>\n",
              "</div>\n",
              "      <button class=\"colab-df-convert\" onclick=\"convertToInteractive('df-6ee28f8f-0a31-4fec-a738-3411c10fc4cc')\"\n",
              "              title=\"Convert this dataframe to an interactive table.\"\n",
              "              style=\"display:none;\">\n",
              "        \n",
              "  <svg xmlns=\"http://www.w3.org/2000/svg\" height=\"24px\"viewBox=\"0 0 24 24\"\n",
              "       width=\"24px\">\n",
              "    <path d=\"M0 0h24v24H0V0z\" fill=\"none\"/>\n",
              "    <path d=\"M18.56 5.44l.94 2.06.94-2.06 2.06-.94-2.06-.94-.94-2.06-.94 2.06-2.06.94zm-11 1L8.5 8.5l.94-2.06 2.06-.94-2.06-.94L8.5 2.5l-.94 2.06-2.06.94zm10 10l.94 2.06.94-2.06 2.06-.94-2.06-.94-.94-2.06-.94 2.06-2.06.94z\"/><path d=\"M17.41 7.96l-1.37-1.37c-.4-.4-.92-.59-1.43-.59-.52 0-1.04.2-1.43.59L10.3 9.45l-7.72 7.72c-.78.78-.78 2.05 0 2.83L4 21.41c.39.39.9.59 1.41.59.51 0 1.02-.2 1.41-.59l7.78-7.78 2.81-2.81c.8-.78.8-2.07 0-2.86zM5.41 20L4 18.59l7.72-7.72 1.47 1.35L5.41 20z\"/>\n",
              "  </svg>\n",
              "      </button>\n",
              "      \n",
              "  <style>\n",
              "    .colab-df-container {\n",
              "      display:flex;\n",
              "      flex-wrap:wrap;\n",
              "      gap: 12px;\n",
              "    }\n",
              "\n",
              "    .colab-df-convert {\n",
              "      background-color: #E8F0FE;\n",
              "      border: none;\n",
              "      border-radius: 50%;\n",
              "      cursor: pointer;\n",
              "      display: none;\n",
              "      fill: #1967D2;\n",
              "      height: 32px;\n",
              "      padding: 0 0 0 0;\n",
              "      width: 32px;\n",
              "    }\n",
              "\n",
              "    .colab-df-convert:hover {\n",
              "      background-color: #E2EBFA;\n",
              "      box-shadow: 0px 1px 2px rgba(60, 64, 67, 0.3), 0px 1px 3px 1px rgba(60, 64, 67, 0.15);\n",
              "      fill: #174EA6;\n",
              "    }\n",
              "\n",
              "    [theme=dark] .colab-df-convert {\n",
              "      background-color: #3B4455;\n",
              "      fill: #D2E3FC;\n",
              "    }\n",
              "\n",
              "    [theme=dark] .colab-df-convert:hover {\n",
              "      background-color: #434B5C;\n",
              "      box-shadow: 0px 1px 3px 1px rgba(0, 0, 0, 0.15);\n",
              "      filter: drop-shadow(0px 1px 2px rgba(0, 0, 0, 0.3));\n",
              "      fill: #FFFFFF;\n",
              "    }\n",
              "  </style>\n",
              "\n",
              "      <script>\n",
              "        const buttonEl =\n",
              "          document.querySelector('#df-6ee28f8f-0a31-4fec-a738-3411c10fc4cc button.colab-df-convert');\n",
              "        buttonEl.style.display =\n",
              "          google.colab.kernel.accessAllowed ? 'block' : 'none';\n",
              "\n",
              "        async function convertToInteractive(key) {\n",
              "          const element = document.querySelector('#df-6ee28f8f-0a31-4fec-a738-3411c10fc4cc');\n",
              "          const dataTable =\n",
              "            await google.colab.kernel.invokeFunction('convertToInteractive',\n",
              "                                                     [key], {});\n",
              "          if (!dataTable) return;\n",
              "\n",
              "          const docLinkHtml = 'Like what you see? Visit the ' +\n",
              "            '<a target=\"_blank\" href=https://colab.research.google.com/notebooks/data_table.ipynb>data table notebook</a>'\n",
              "            + ' to learn more about interactive tables.';\n",
              "          element.innerHTML = '';\n",
              "          dataTable['output_type'] = 'display_data';\n",
              "          await google.colab.output.renderOutput(dataTable, element);\n",
              "          const docLink = document.createElement('div');\n",
              "          docLink.innerHTML = docLinkHtml;\n",
              "          element.appendChild(docLink);\n",
              "        }\n",
              "      </script>\n",
              "    </div>\n",
              "  </div>\n",
              "  "
            ]
          },
          "metadata": {},
          "execution_count": 2
        }
      ]
    },
    {
      "cell_type": "code",
      "source": [
        "sns.boxplot(data = depression , x= \"Depressed\" , y=\"Education Level\") #show the boxplot where x axis is Depressed and y axis is Education level"
      ],
      "metadata": {
        "colab": {
          "base_uri": "https://localhost:8080/",
          "height": 296
        },
        "id": "cUcIUlPHZ2Tr",
        "outputId": "57835298-815d-48f8-d2bd-6989fd54e24e"
      },
      "execution_count": 4,
      "outputs": [
        {
          "output_type": "execute_result",
          "data": {
            "text/plain": [
              "<matplotlib.axes._subplots.AxesSubplot at 0x7f680508c7c0>"
            ]
          },
          "metadata": {},
          "execution_count": 4
        },
        {
          "output_type": "display_data",
          "data": {
            "text/plain": [
              "<Figure size 432x288 with 1 Axes>"
            ],
            "image/png": "[encoded data removed]"
          },
          "metadata": {
            "needs_background": "light"
          }
        }
      ]
    },
    {
      "cell_type": "code",
      "source": [
        "plt.figure(figsize = (13,13)) #set the figure size\n",
        "sns.boxplot(data= depression , x=\"Depressed\" , y=\"Education Level\" , hue=\"Sex\", palette= [\"lightgreen\",\"purple\"]) #add the third variable and set the color palette\n",
        "sns.set_style(\"dark\") #set the background\n",
        "plt.title(\"The Relationship Between Education Level and Depression\" , fontweight=\"bold\" , fontsize=15 ) #determine the title of the plot and set the font weight and size \n",
        "plt.ylabel(\"Average Education Level\", fontsize=12) #set the name of the y axis and font size\n",
        "plt.xlabel(\"Depressed\", fontsize=12) #set the name of the x axis and font size\n",
        "plt.show() #show the plot"
      ],
      "metadata": {
        "colab": {
          "base_uri": "https://localhost:8080/",
          "height": 790
        },
        "id": "aA_vBf97aky3",
        "outputId": "921d94f6-4bc5-4e6d-95bd-0778c7ffa7aa"
      },
      "execution_count": 5,
      "outputs": [
        {
          "output_type": "display_data",
          "data": {
            "text/plain": [
              "<Figure size 936x936 with 1 Axes>"
            ],
            "image/png": "[encoded data removed]"
          },
          "metadata": {
            "needs_background": "light"
          }
        }
      ]
    },
    {
      "cell_type": "code",
      "source": [
        "plt.figure(figsize = (6,10)) #set the figure size\n",
        "sns.barplot(data= depression , x=\"Depressed\" , y=\"Gained Asset\" , palette=[\"darkred\",\"orange\"]) #show the plot which x axis is Deppresed and y axis is Gained Asset and set the color palette\n",
        "sns.set_style(\"dark\") #set the background\n",
        "plt.title(\"Gained Asset and Depression\" , fontweight=\"bold\" , fontsize=14) #determine the title of the plot and set the font weight and size\n",
        "plt.ylabel(\"Average Gained Asset\" , fontsize=12) #set the name and size of the y axis\n",
        "plt.xlabel(\"Depressed\" , fontsize=12) #set the name and size of the x axis\n",
        "plt.show() #show the plot\n"
      ],
      "metadata": {
        "colab": {
          "base_uri": "https://localhost:8080/",
          "height": 626
        },
        "id": "55DVRUVnmt3c",
        "outputId": "dcd0a145-2565-4229-f926-4eb0586da2fe"
      },
      "execution_count": 6,
      "outputs": [
        {
          "output_type": "display_data",
          "data": {
            "text/plain": [
              "<Figure size 432x720 with 1 Axes>"
            ],
            "image/png": "[encoded data removed]"
          },
          "metadata": {}
        }
      ]
    }
  ]
}